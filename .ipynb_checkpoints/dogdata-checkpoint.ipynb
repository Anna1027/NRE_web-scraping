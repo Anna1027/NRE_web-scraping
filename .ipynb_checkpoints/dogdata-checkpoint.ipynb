{
 "cells": [
  {
   "cell_type": "code",
   "execution_count": null,
   "metadata": {},
   "outputs": [],
   "source": [
    "import warnings\n",
    "warnings.filterwarnings(\"ignore\")\n",
    "import tensorflow as tf\n",
    "import keras\n",
    "print('keras using %s backend'%keras.backend.backend())\n",
    "import pandas as pd\n",
    "import numpy as np\n",
    "import matplotlib.pyplot as graph\n",
    "import sklearn\n",
    "%matplotlib inline\n",
    "graph.rcParams['figure.figsize'] = (15,5)\n",
    "graph.rcParams[\"font.family\"] = 'DejaVu Sans'\n",
    "graph.rcParams[\"font.size\"] = '12'\n",
    "graph.rcParams['image.cmap'] = 'rainbow'"
   ]
  },
  {
   "cell_type": "code",
   "execution_count": null,
   "metadata": {},
   "outputs": [],
   "source": [
    "#This loads the dataset\n",
    "dataset = pd.read_csv('dog_data.csv')\n",
    "print(dataset.head(10))\n",
    "\n",
    "#This tells us the shape of the data set \n",
    "print(\"Shape of data set: \", dataset.shape)\n",
    "\n",
    "#Defines the feature dataframe \n",
    "features = dataset.drop(['breed'], axis = 1)\n"
   ]
  },
  {
   "cell_type": "code",
   "execution_count": null,
   "metadata": {},
   "outputs": [],
   "source": [
    "#Defines the feature dataframe \n",
    "features = dataset.drop(['breed'], axis = 1)\n"
   ]
  },
  {
   "cell_type": "code",
   "execution_count": null,
   "metadata": {},
   "outputs": [],
   "source": [
    "from sklearn.preprocessing import OneHotEncoder\n",
    "\n",
    "# This sets the  labels (numerical)\n",
    "labels = np.array(dataset['breed'])\n",
    "\n",
    "onehot = OneHotEncoder(sparse = False).fit_transform(np.transpose([labels]))\n",
    "\n",
    "print(onehot[:10])\n",
    "                                            "
   ]
  },
  {
   "cell_type": "code",
   "execution_count": null,
   "metadata": {},
   "outputs": [],
   "source": [
    "# This takes the first 160 examples for the training set\n",
    "train_X = features.values[:160]\n",
    "train_Y = onehot[:160]\n",
    "\n",
    "#This takes the last 40 examples of the 200 for the test set\n",
    "test_X = features.values[160:]\n",
    "test_Y = onehot[160:]\n"
   ]
  },
  {
   "cell_type": "code",
   "execution_count": null,
   "metadata": {},
   "outputs": [],
   "source": [
    "# Set a randomisation seed for replicatability\n",
    "np.random.seed(6)\n",
    "\n",
    "#Creates the base model \n",
    "model = keras.models.Sequential()\n",
    "\n",
    "#first lasyer is the input with 3 nodes. second layer is hidden with 4 nodes, third layer is hidden with 2 nodes, last layer is output with 3 nodes\n",
    "structure = [3, 4 , 2, 3] \n",
    "\n",
    "#Input layer + hidden layer 1 \n",
    "model.add(keras.layers.Dense(units = structure[1], input_dim = structure[0],activation = 'relu'))\n",
    "\n",
    "#Hidden layer 2\n",
    "model.add(keras.layers.Dense(units = structure[2], activation = 'relu'))\n",
    "\n",
    "#output layer: the activation function is softmax. Softmax will predict a category and provide a value for how likley this is a correct prediction \n",
    "model.add(keras.layers.Dense(units=structure[3],activation = tf.nn.softmax))\n",
    "\n",
    "print(\"Layer structures:\", structure)"
   ]
  },
  {
   "cell_type": "code",
   "execution_count": null,
   "metadata": {
    "scrolled": true
   },
   "outputs": [],
   "source": [
    "#compile the model \n",
    "model.compile(loss = 'categorical_crossentropy', optimizer = 'sgd', metrics = ['accuracy'])\n",
    "\n",
    "#fit the model \n",
    "print(\"Starting training\")\n",
    "\n",
    "training_stats = model.fit(train_X, train_Y, batch_size = 1, epochs = 24, verbose = 0)\n",
    "\n",
    "print('Training finished')\n",
    "print(training_stats.history.keys())\n",
    "#print(training_stats.history['loss'])\n",
    "#print(training_stats.history['accuracy'])\n",
    "print('Training Evaluation: loss = %0.3f, accuracy = %0.2f%%' %(training_stats.history['loss'][-1], 100 * training_stats.history['accuracy'][-1]))\n"
   ]
  },
  {
   "cell_type": "code",
   "execution_count": null,
   "metadata": {},
   "outputs": [],
   "source": [
    "#see how it performs on the test set \n",
    "evaluation = model.evaluate(test_X, test_Y, verbose = 0)\n",
    "print('Test Set Evaluation: loss = %0.6f, accuracy = %0.2f' %(evaluation[0], 100*evaluation[1]))\n",
    "\n"
   ]
  },
  {
   "cell_type": "code",
   "execution_count": null,
   "metadata": {},
   "outputs": [],
   "source": [
    "#now see how it predicts something completely new and unclassified \n",
    "new_sample = [9,8,5]"
   ]
  },
  {
   "cell_type": "code",
   "execution_count": null,
   "metadata": {},
   "outputs": [],
   "source": [
    "#look at where the new sample sits in comparison to the dataset\n",
    "graph.plot(new_sample[0], new_sample[1], 'ko', marker='x')\n",
    "\n",
    "graph.scatter(train_X[:,0], train_X[:,1], c = labels[:160])\n",
    "graph.title('samples by age and weight')\n",
    "graph.xlabel('age')\n",
    "graph.ylabel('weight')\n",
    "graph.show()\n",
    "\n",
    "#plot out the age-height relationship \n",
    "graph.plot(new_sample[0], new_sample[2], 'ko', marker='x')\n",
    "\n",
    "graph.scatter(train_X[:,0], train_X[:,2], c = labels[:160])\n",
    "graph.title('samples by age and height')\n",
    "graph.xlabel('age')\n",
    "graph.ylabel('height')\n",
    "graph.show()"
   ]
  },
  {
   "cell_type": "code",
   "execution_count": null,
   "metadata": {},
   "outputs": [],
   "source": [
    "predicted = model.predict(np.array([new_sample]))\n",
    "print('Breed prediction for %s:' %(new_sample))\n",
    "\n",
    "\n",
    "print(np.around(predicted[0],2))\n",
    "print('Breed %s, with %i%% certainty.'%(np.argmax(predicted), np.around(100 * predicted[:, np.argmax(predicted)][0])))\n",
    "\n",
    "#Breed 0 should be purple, breed 1 should be green, and breed 2 should be red                                                                                    \n"
   ]
  },
  {
   "cell_type": "code",
   "execution_count": null,
   "metadata": {},
   "outputs": [],
   "source": []
  }
 ],
 "metadata": {
  "kernelspec": {
   "display_name": "Python 3",
   "language": "python",
   "name": "python3"
  },
  "language_info": {
   "codemirror_mode": {
    "name": "ipython",
    "version": 3
   },
   "file_extension": ".py",
   "mimetype": "text/x-python",
   "name": "python",
   "nbconvert_exporter": "python",
   "pygments_lexer": "ipython3",
   "version": "3.6.9"
  }
 },
 "nbformat": 4,
 "nbformat_minor": 2
}
